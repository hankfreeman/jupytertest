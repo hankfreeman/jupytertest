{
 "cells": [
  {
   "cell_type": "code",
   "execution_count": 3,
   "id": "a51fbce9",
   "metadata": {},
   "outputs": [],
   "source": [
    "import tkinter as tk\n",
    "\n",
    "# Define the battery color spectrum\n",
    "low_color = \"#FF0000\"  # Red\n",
    "high_color = \"#00FF00\"  # Green\n",
    "\n",
    "# Create a tkinter window\n",
    "window = tk.Tk()\n",
    "window.title(\"Battery Level Display\")\n",
    "\n",
    "# Create a canvas for the battery representation\n",
    "canvas = tk.Canvas(window, width=200, height=300, bg=\"white\")\n",
    "canvas.pack()\n",
    "\n",
    "# Create a slider for changing the battery level\n",
    "slider = tk.Scale(window, from_=0, to=100, orient=tk.HORIZONTAL, length=200)\n",
    "slider.pack()\n",
    "\n",
    "def update_battery():\n",
    "    # Get the selected battery level from the slider\n",
    "    battery_level = slider.get()\n",
    "\n",
    "    # Clear the canvas\n",
    "    canvas.delete(\"battery\")\n",
    "\n",
    "    # Update the battery representation\n",
    "    battery_height = 250 * (battery_level / 100)\n",
    "    battery_color = interpolate_color(low_color, high_color, battery_level / 100)\n",
    "    canvas.create_rectangle(50, 50 + 250 - battery_height, 150, 300, fill=battery_color, tags=\"battery\")\n",
    "\n",
    "def interpolate_color(color1, color2, t):\n",
    "    # Interpolate between two colors based on a given t value (0 to 1)\n",
    "    r1, g1, b1 = int(color1[1:3], 16), int(color1[3:5], 16), int(color1[5:7], 16)\n",
    "    r2, g2, b2 = int(color2[1:3], 16), int(color2[3:5], 16), int(color2[5:7], 16)\n",
    "    r = int(r1 + (r2 - r1) * t)\n",
    "    g = int(g1 + (g2 - g1) * t)\n",
    "    b = int(b1 + (b2 - b1) * t)\n",
    "    return f\"#{r:02X}{g:02X}{b:02X}\"\n",
    "\n",
    "# Bind the slider's event to the update_battery function\n",
    "slider.bind(\"<B1-Motion>\", lambda event: update_battery())\n",
    "\n",
    "# Set the initial battery level\n",
    "initial_battery_level = 50\n",
    "slider.set(initial_battery_level)\n",
    "update_battery()\n",
    "\n",
    "# Run the tkinter event loop\n",
    "window.mainloop()\n"
   ]
  },
  {
   "cell_type": "code",
   "execution_count": null,
   "id": "f91f08e9",
   "metadata": {},
   "outputs": [],
   "source": []
  }
 ],
 "metadata": {
  "kernelspec": {
   "display_name": "Python 3 (ipykernel)",
   "language": "python",
   "name": "python3"
  },
  "language_info": {
   "codemirror_mode": {
    "name": "ipython",
    "version": 3
   },
   "file_extension": ".py",
   "mimetype": "text/x-python",
   "name": "python",
   "nbconvert_exporter": "python",
   "pygments_lexer": "ipython3",
   "version": "3.10.11"
  }
 },
 "nbformat": 4,
 "nbformat_minor": 5
}
